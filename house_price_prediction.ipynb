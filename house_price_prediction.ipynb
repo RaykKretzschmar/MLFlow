{
 "cells": [
  {
   "cell_type": "markdown",
   "id": "70dd9eb6",
   "metadata": {},
   "source": [
    "# House Price Prediction using MLFlow"
   ]
  },
  {
   "cell_type": "markdown",
   "id": "fbcf2c7c",
   "metadata": {},
   "source": []
  }
 ],
 "metadata": {
  "language_info": {
   "name": "python"
  }
 },
 "nbformat": 4,
 "nbformat_minor": 5
}
